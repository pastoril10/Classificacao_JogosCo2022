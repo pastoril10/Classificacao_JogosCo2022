{
 "cells": [
  {
   "cell_type": "code",
   "execution_count": 1,
   "metadata": {},
   "outputs": [],
   "source": [
    "import pandas as pd"
   ]
  },
  {
   "cell_type": "code",
   "execution_count": 3,
   "metadata": {},
   "outputs": [],
   "source": [
    "ranking_fifa = pd.read_csv(\"data/fifa_ranking-2022-10-06.csv\")"
   ]
  },
  {
   "cell_type": "code",
   "execution_count": 27,
   "metadata": {},
   "outputs": [
    {
     "data": {
      "text/html": [
       "<div>\n",
       "<style scoped>\n",
       "    .dataframe tbody tr th:only-of-type {\n",
       "        vertical-align: middle;\n",
       "    }\n",
       "\n",
       "    .dataframe tbody tr th {\n",
       "        vertical-align: top;\n",
       "    }\n",
       "\n",
       "    .dataframe thead th {\n",
       "        text-align: right;\n",
       "    }\n",
       "</style>\n",
       "<table border=\"1\" class=\"dataframe\">\n",
       "  <thead>\n",
       "    <tr style=\"text-align: right;\">\n",
       "      <th></th>\n",
       "      <th>rank</th>\n",
       "      <th>country_full</th>\n",
       "      <th>country_abrv</th>\n",
       "      <th>total_points</th>\n",
       "      <th>previous_points</th>\n",
       "      <th>rank_change</th>\n",
       "      <th>confederation</th>\n",
       "      <th>rank_date</th>\n",
       "      <th>rank_month</th>\n",
       "      <th>rank_year</th>\n",
       "      <th>rank_day</th>\n",
       "    </tr>\n",
       "  </thead>\n",
       "  <tbody>\n",
       "    <tr>\n",
       "      <th>63911</th>\n",
       "      <td>74</td>\n",
       "      <td>El Salvador</td>\n",
       "      <td>SLV</td>\n",
       "      <td>1330.51</td>\n",
       "      <td>1333.48</td>\n",
       "      <td>3</td>\n",
       "      <td>CONCACAF</td>\n",
       "      <td>2022-10-06</td>\n",
       "      <td>10</td>\n",
       "      <td>2022</td>\n",
       "      <td>6</td>\n",
       "    </tr>\n",
       "    <tr>\n",
       "      <th>63912</th>\n",
       "      <td>75</td>\n",
       "      <td>Oman</td>\n",
       "      <td>OMA</td>\n",
       "      <td>1320.29</td>\n",
       "      <td>1323.03</td>\n",
       "      <td>0</td>\n",
       "      <td>AFC</td>\n",
       "      <td>2022-10-06</td>\n",
       "      <td>10</td>\n",
       "      <td>2022</td>\n",
       "      <td>6</td>\n",
       "    </tr>\n",
       "    <tr>\n",
       "      <th>63913</th>\n",
       "      <td>76</td>\n",
       "      <td>Israel</td>\n",
       "      <td>ISR</td>\n",
       "      <td>1316.55</td>\n",
       "      <td>1316.35</td>\n",
       "      <td>0</td>\n",
       "      <td>UEFA</td>\n",
       "      <td>2022-10-06</td>\n",
       "      <td>10</td>\n",
       "      <td>2022</td>\n",
       "      <td>6</td>\n",
       "    </tr>\n",
       "    <tr>\n",
       "      <th>63914</th>\n",
       "      <td>78</td>\n",
       "      <td>Georgia</td>\n",
       "      <td>GEO</td>\n",
       "      <td>1307.34</td>\n",
       "      <td>1296.46</td>\n",
       "      <td>-4</td>\n",
       "      <td>UEFA</td>\n",
       "      <td>2022-10-06</td>\n",
       "      <td>10</td>\n",
       "      <td>2022</td>\n",
       "      <td>6</td>\n",
       "    </tr>\n",
       "    <tr>\n",
       "      <th>63915</th>\n",
       "      <td>211</td>\n",
       "      <td>San Marino</td>\n",
       "      <td>SMR</td>\n",
       "      <td>762.22</td>\n",
       "      <td>763.82</td>\n",
       "      <td>0</td>\n",
       "      <td>UEFA</td>\n",
       "      <td>2022-10-06</td>\n",
       "      <td>10</td>\n",
       "      <td>2022</td>\n",
       "      <td>6</td>\n",
       "    </tr>\n",
       "  </tbody>\n",
       "</table>\n",
       "</div>"
      ],
      "text/plain": [
       "       rank country_full country_abrv  total_points  previous_points  \\\n",
       "63911    74  El Salvador          SLV       1330.51          1333.48   \n",
       "63912    75         Oman          OMA       1320.29          1323.03   \n",
       "63913    76       Israel          ISR       1316.55          1316.35   \n",
       "63914    78      Georgia          GEO       1307.34          1296.46   \n",
       "63915   211   San Marino          SMR        762.22           763.82   \n",
       "\n",
       "       rank_change confederation  rank_date  rank_month  rank_year  rank_day  \n",
       "63911            3      CONCACAF 2022-10-06          10       2022         6  \n",
       "63912            0           AFC 2022-10-06          10       2022         6  \n",
       "63913            0          UEFA 2022-10-06          10       2022         6  \n",
       "63914           -4          UEFA 2022-10-06          10       2022         6  \n",
       "63915            0          UEFA 2022-10-06          10       2022         6  "
      ]
     },
     "execution_count": 27,
     "metadata": {},
     "output_type": "execute_result"
    }
   ],
   "source": [
    "ranking_fifa.tail()"
   ]
  },
  {
   "cell_type": "code",
   "execution_count": 9,
   "metadata": {},
   "outputs": [
    {
     "data": {
      "text/plain": [
       "dtype('<M8[ns]')"
      ]
     },
     "execution_count": 9,
     "metadata": {},
     "output_type": "execute_result"
    }
   ],
   "source": [
    "ranking_fifa[\"rank_date\"].dtype"
   ]
  },
  {
   "cell_type": "code",
   "execution_count": 8,
   "metadata": {},
   "outputs": [],
   "source": [
    "#transformando rank_date em data\n",
    "ranking_fifa[\"rank_date\"] = pd.to_datetime(ranking_fifa[\"rank_date\"])"
   ]
  },
  {
   "cell_type": "code",
   "execution_count": 10,
   "metadata": {},
   "outputs": [],
   "source": [
    "ranking_fifa[\"rank_month\"] = ranking_fifa[\"rank_date\"].dt.month"
   ]
  },
  {
   "cell_type": "code",
   "execution_count": 11,
   "metadata": {},
   "outputs": [],
   "source": [
    "ranking_fifa[\"rank_year\"] = ranking_fifa[\"rank_date\"].dt.year"
   ]
  },
  {
   "cell_type": "code",
   "execution_count": 14,
   "metadata": {},
   "outputs": [],
   "source": [
    "ranking_fifa[\"rank_day\"] = ranking_fifa[\"rank_date\"].dt.day"
   ]
  },
  {
   "cell_type": "code",
   "execution_count": 17,
   "metadata": {},
   "outputs": [
    {
     "data": {
      "text/plain": [
       "array([12,  8,  9, 10, 11,  2,  3,  4,  5,  6,  7,  1], dtype=int64)"
      ]
     },
     "execution_count": 17,
     "metadata": {},
     "output_type": "execute_result"
    }
   ],
   "source": [
    "ranking_fifa[\"rank_month\"].unique()"
   ]
  },
  {
   "cell_type": "markdown",
   "metadata": {},
   "source": [
    "vamos selecionar a posição no ranking das seleções no periodo da copa do mundo."
   ]
  },
  {
   "cell_type": "markdown",
   "metadata": {},
   "source": [
    "sendo assim, vamos pegar apenas os dados no periodo de copas, anos - 1994, 98, 02, 06, 10, 14 e 18"
   ]
  },
  {
   "cell_type": "code",
   "execution_count": 22,
   "metadata": {},
   "outputs": [],
   "source": [
    "ranking_fifa = ranking_fifa[(ranking_fifa[\"rank_year\"] == 1994) | (ranking_fifa[\"rank_year\"] == 1998) | (ranking_fifa[\"rank_year\"] == 2002) | (ranking_fifa[\"rank_year\"] == 2006) |\n",
    "(ranking_fifa[\"rank_year\"] == 2010) | (ranking_fifa[\"rank_year\"] == 2014) | (ranking_fifa[\"rank_year\"] == 2018) | (ranking_fifa[\"rank_year\"] == 2022)]"
   ]
  },
  {
   "cell_type": "markdown",
   "metadata": {},
   "source": [
    "Agora, vamos filtrar os dados somente no periodo de vespera do inicio da copa do mundo, na média, o mês 5 seria interessante."
   ]
  },
  {
   "cell_type": "code",
   "execution_count": 31,
   "metadata": {},
   "outputs": [],
   "source": [
    "ranking_fifa_eve_cup = ranking_fifa[(ranking_fifa[\"rank_month\"] == 6)|(ranking_fifa[\"rank_month\"] == 5)]"
   ]
  },
  {
   "cell_type": "code",
   "execution_count": 32,
   "metadata": {},
   "outputs": [
    {
     "data": {
      "text/html": [
       "<div>\n",
       "<style scoped>\n",
       "    .dataframe tbody tr th:only-of-type {\n",
       "        vertical-align: middle;\n",
       "    }\n",
       "\n",
       "    .dataframe tbody tr th {\n",
       "        vertical-align: top;\n",
       "    }\n",
       "\n",
       "    .dataframe thead th {\n",
       "        text-align: right;\n",
       "    }\n",
       "</style>\n",
       "<table border=\"1\" class=\"dataframe\">\n",
       "  <thead>\n",
       "    <tr style=\"text-align: right;\">\n",
       "      <th></th>\n",
       "      <th>rank</th>\n",
       "      <th>country_full</th>\n",
       "      <th>country_abrv</th>\n",
       "      <th>total_points</th>\n",
       "      <th>previous_points</th>\n",
       "      <th>rank_change</th>\n",
       "      <th>confederation</th>\n",
       "      <th>rank_date</th>\n",
       "      <th>rank_month</th>\n",
       "      <th>rank_year</th>\n",
       "      <th>rank_day</th>\n",
       "    </tr>\n",
       "  </thead>\n",
       "  <tbody>\n",
       "    <tr>\n",
       "      <th>63489</th>\n",
       "      <td>137</td>\n",
       "      <td>Solomon Islands</td>\n",
       "      <td>SOL</td>\n",
       "      <td>1092.56</td>\n",
       "      <td>1092.56</td>\n",
       "      <td>0</td>\n",
       "      <td>OFC</td>\n",
       "      <td>2022-06-23</td>\n",
       "      <td>6</td>\n",
       "      <td>2022</td>\n",
       "      <td>23</td>\n",
       "    </tr>\n",
       "    <tr>\n",
       "      <th>63490</th>\n",
       "      <td>136</td>\n",
       "      <td>Rwanda</td>\n",
       "      <td>RWA</td>\n",
       "      <td>1095.04</td>\n",
       "      <td>1097.16</td>\n",
       "      <td>0</td>\n",
       "      <td>CAF</td>\n",
       "      <td>2022-06-23</td>\n",
       "      <td>6</td>\n",
       "      <td>2022</td>\n",
       "      <td>23</td>\n",
       "    </tr>\n",
       "    <tr>\n",
       "      <th>63491</th>\n",
       "      <td>135</td>\n",
       "      <td>Turkmenistan</td>\n",
       "      <td>TKM</td>\n",
       "      <td>1100.47</td>\n",
       "      <td>1117.60</td>\n",
       "      <td>1</td>\n",
       "      <td>AFC</td>\n",
       "      <td>2022-06-23</td>\n",
       "      <td>6</td>\n",
       "      <td>2022</td>\n",
       "      <td>23</td>\n",
       "    </tr>\n",
       "    <tr>\n",
       "      <th>63492</th>\n",
       "      <td>159</td>\n",
       "      <td>Singapore</td>\n",
       "      <td>SGP</td>\n",
       "      <td>1004.75</td>\n",
       "      <td>1012.27</td>\n",
       "      <td>1</td>\n",
       "      <td>AFC</td>\n",
       "      <td>2022-06-23</td>\n",
       "      <td>6</td>\n",
       "      <td>2022</td>\n",
       "      <td>23</td>\n",
       "    </tr>\n",
       "    <tr>\n",
       "      <th>63493</th>\n",
       "      <td>1</td>\n",
       "      <td>Brazil</td>\n",
       "      <td>BRA</td>\n",
       "      <td>1837.56</td>\n",
       "      <td>1832.69</td>\n",
       "      <td>0</td>\n",
       "      <td>CONMEBOL</td>\n",
       "      <td>2022-06-23</td>\n",
       "      <td>6</td>\n",
       "      <td>2022</td>\n",
       "      <td>23</td>\n",
       "    </tr>\n",
       "  </tbody>\n",
       "</table>\n",
       "</div>"
      ],
      "text/plain": [
       "       rank     country_full country_abrv  total_points  previous_points  \\\n",
       "63489   137  Solomon Islands          SOL       1092.56          1092.56   \n",
       "63490   136           Rwanda          RWA       1095.04          1097.16   \n",
       "63491   135     Turkmenistan          TKM       1100.47          1117.60   \n",
       "63492   159        Singapore          SGP       1004.75          1012.27   \n",
       "63493     1           Brazil          BRA       1837.56          1832.69   \n",
       "\n",
       "       rank_change confederation  rank_date  rank_month  rank_year  rank_day  \n",
       "63489            0           OFC 2022-06-23           6       2022        23  \n",
       "63490            0           CAF 2022-06-23           6       2022        23  \n",
       "63491            1           AFC 2022-06-23           6       2022        23  \n",
       "63492            1           AFC 2022-06-23           6       2022        23  \n",
       "63493            0      CONMEBOL 2022-06-23           6       2022        23  "
      ]
     },
     "execution_count": 32,
     "metadata": {},
     "output_type": "execute_result"
    }
   ],
   "source": [
    "ranking_fifa_eve_cup.tail()"
   ]
  },
  {
   "cell_type": "code",
   "execution_count": 33,
   "metadata": {},
   "outputs": [
    {
     "data": {
      "text/plain": [
       "array([1994, 1998, 2002, 2006, 2010, 2014, 2018, 2022], dtype=int64)"
      ]
     },
     "execution_count": 33,
     "metadata": {},
     "output_type": "execute_result"
    }
   ],
   "source": [
    "ranking_fifa_eve_cup.rank_year.unique()"
   ]
  },
  {
   "cell_type": "code",
   "execution_count": 34,
   "metadata": {},
   "outputs": [],
   "source": [
    "ranking_fifa_eve_cup.to_csv(r\"data/ranking_fifa_eve_cup.csv\",\n",
    "                     index = False, \n",
    "                   header = True)"
   ]
  },
  {
   "cell_type": "code",
   "execution_count": null,
   "metadata": {},
   "outputs": [],
   "source": []
  }
 ],
 "metadata": {
  "kernelspec": {
   "display_name": "Python 3.10.5 64-bit",
   "language": "python",
   "name": "python3"
  },
  "language_info": {
   "codemirror_mode": {
    "name": "ipython",
    "version": 3
   },
   "file_extension": ".py",
   "mimetype": "text/x-python",
   "name": "python",
   "nbconvert_exporter": "python",
   "pygments_lexer": "ipython3",
   "version": "3.10.5"
  },
  "orig_nbformat": 4,
  "vscode": {
   "interpreter": {
    "hash": "3e680e901da43b1ff7896a65bb9fdc0d88fdcb475def19e54fa2d4ad7c5b5275"
   }
  }
 },
 "nbformat": 4,
 "nbformat_minor": 2
}
